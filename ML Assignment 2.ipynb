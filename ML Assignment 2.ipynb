{
 "cells": [
  {
   "cell_type": "code",
   "execution_count": null,
   "id": "4c980e87-d51c-4082-ac4f-1008dfb731b8",
   "metadata": {},
   "outputs": [],
   "source": [
    "#1. What is the concept of human learning? Please give two examples ?\n",
    "\n",
    "Ans. Human learning is the form of learning which requires higher order mental processes like thinking, reasoning, \n",
    "intelligence, etc.We learn different concepts from childhood. For example:\n",
    "\n",
    "*Learning through Association - Classical Conditioning.\n",
    "*Learning through consequences – Operant Conditioning.\n",
    "*Learning through observation – Modeling/Observational Learning."
   ]
  },
  {
   "cell_type": "code",
   "execution_count": null,
   "id": "800a5eb3-74b3-4be0-ac20-b833ad483e85",
   "metadata": {},
   "outputs": [],
   "source": [
    "#2. What different forms of human learning are there? Are there any machine learning equivalents ?\n",
    "\n",
    "Ans. Different Forms of ML are as follows :\n",
    "\n",
    "*Artificial Intelligence Learning Theories. Machine Learning. Reinforcement Learning. Supervised Learning. Unsupervised Learning.\n",
    "*ML equivalents like Linear regression, decision trees, random forest and support vector machines are some commonly used\n",
    "techniques that are actually examples of supervised learning."
   ]
  },
  {
   "cell_type": "code",
   "execution_count": null,
   "id": "39010472-6b29-45e9-9dc7-a4b5ec74e020",
   "metadata": {},
   "outputs": [],
   "source": [
    "#3. What is machine learning, and how does it work? What are the key responsibilities of machine learning ?\n",
    "\n",
    "Ans. Machine learning is a branch of Artificial intelligence (AI) that teaches computers on how to think in a similar\n",
    "way to how humans do, like by Learning and improving upon past experiences.\n",
    "\n",
    "*It works by exploring data and identifying patterns, and involves minimal human intervention.\n",
    "Roles and responsibilities of a machine learning engineer are:\n",
    "\n",
    "*Designing ML systems.\n",
    "*Researching and implementing ML algorithms and tools. Selecting appropriate data sets.\n",
    "*Picking appropriate data representation methods. Identifying differences in data distribution that affects model performance. \n",
    "Verifying data quality."
   ]
  },
  {
   "cell_type": "code",
   "execution_count": null,
   "id": "cf367059-99b6-4cbb-81dd-7a339b5e0bca",
   "metadata": {},
   "outputs": [],
   "source": [
    "#4. Define the terms \"penalty\" and \"reward\" in the context of reinforcement learning ?\n",
    "\n",
    "Ans. A Reinforcement Learning Algorithm, which may also be referred to as an agent, learns by interacting with its environment. \n",
    "The agent receives rewards by performing correctly and penalties for performing incorrectly. The agent learns without \n",
    "intervention from a human by maximizing its reward and minimizing its penalty."
   ]
  },
  {
   "cell_type": "code",
   "execution_count": null,
   "id": "ce57cf49-643f-4a04-a2bb-03b30425f958",
   "metadata": {},
   "outputs": [],
   "source": [
    "#5. Explain the term \"learning as a search\" ?\n",
    "\n",
    "Ans. Learning can be viewed as a search through the space of all sentences in a concept description language for a sentence \n",
    "that best describes the data. Alternatively, it can be viewed as a search through all hypotheses in a hypothesis space."
   ]
  },
  {
   "cell_type": "code",
   "execution_count": null,
   "id": "55ac9f65-fdcf-48c0-8545-4167cfc0e89c",
   "metadata": {},
   "outputs": [],
   "source": [
    "#6. What are the various goals of machine learning? What is the relationship between these and human learning ?\n",
    "\n",
    "Ans. The Goal of machine learning, closely coupled with the goal of AI, is to achieve a through understanding about the nature \n",
    "of learning process (both human learning and other forms of learning), about the computational aspects of learning behaviors, \n",
    "and to implant the learning capability in computer systems.\n",
    "\n",
    "Humans have the ability to learn, however with the progress in artificial intelligence, machine learning has become a resource\n",
    "which can augment or even replace human learning. Learning does not happen all at once, but it builds upon and is shaped by \n",
    "previous knowledge."
   ]
  },
  {
   "cell_type": "code",
   "execution_count": null,
   "id": "7be744c5-44c3-4058-afa6-87fd68626da8",
   "metadata": {},
   "outputs": [],
   "source": [
    "#7. Illustrate the various elements of machine learning using a real-life illustration ?\n",
    "\n",
    "Ans. The Various elements of the the Machine Learning are:\n",
    "\n",
    "*Data\n",
    "*Task\n",
    "*Model\n",
    "*Loss Function\n",
    "*Learning Algorithm\n",
    "*Evaluation"
   ]
  },
  {
   "cell_type": "code",
   "execution_count": null,
   "id": "16c658ad-bff8-4f97-8094-f5941b685d3e",
   "metadata": {},
   "outputs": [],
   "source": [
    "#8. Provide an example of the abstraction method ?\n",
    "\n",
    "Ans. In Machine Learning, Abstraction is supported primarily at the level of modules. \n",
    "This can be justified in two ways: first, Data abstraction is mostly a question of program interfaces and therefore it arises \n",
    "naturally at the point where we have to consider program composition and modules."
   ]
  },
  {
   "cell_type": "code",
   "execution_count": null,
   "id": "fea30d1e-5919-47d2-8a88-4b1e0b169d1b",
   "metadata": {},
   "outputs": [],
   "source": [
    "#9. What is the concept of generalization? What function does it play in the machine learning process ?\n",
    "\n",
    "Ans. Generalization refers to your model's ability to adapt properly to new, previously unseen data, drawn from the same \n",
    "distribution as the one used to create the model.\n",
    "\n",
    "In machine learning, generalization is a definition to demonstrate how well is a trained model to classify or forecast \n",
    "unseen data.This issue can result to classify an actual dog image as a cat from the unseen dataset. Therefore, data diversity\n",
    "is very important factor in order to make a good prediction."
   ]
  },
  {
   "cell_type": "code",
   "execution_count": null,
   "id": "88296a8b-150f-4331-bac4-001c86b4cceb",
   "metadata": {},
   "outputs": [],
   "source": [
    "#10. What is classification, exactly? What are the main distinctions between classification and regression ?\n",
    "\n",
    "Ans. In Machine Learning, Classification refers to a predictive modeling problem where a class label is predicted for a \n",
    "given example of input data.Classification is the task of predicting a discrete class label. Whereas Regression is the task \n",
    "of predicting a continuous quantity."
   ]
  },
  {
   "cell_type": "code",
   "execution_count": null,
   "id": "7c838d3c-a71f-4ffc-a532-9e66a8306905",
   "metadata": {},
   "outputs": [],
   "source": [
    "#11.  What is regression, and how does it work? Give an example of a real-world problem that was solved using regression ?\n",
    "\n",
    "Ans. Regression is a Supervised Machine Learning technique which is used to predict continuous values. The ultimate goal of a \n",
    "regression algorithm is to plot a best-fit line or a curve between the data.\n",
    "\n",
    "The three main metrics that are used for evaluating the trained regression model are Variance, Bias and Error.\n",
    "\n",
    "A simple linear regression real life example could mean you finding a relationship between the revenue and temperature, with a \n",
    "sample size for revenue as the dependent variable. In case of multiple variable regression, you can find the relationship \n",
    "between temperature, pricing and number of workers to the revenue."
   ]
  },
  {
   "cell_type": "code",
   "execution_count": null,
   "id": "f8e9b632-9d1c-4ad6-a7d5-3b98b6d46502",
   "metadata": {},
   "outputs": [],
   "source": [
    "#12.  Describe the clustering mechanism in detail ?\n",
    "\n",
    "Ans. Clustering is the task of dividing the population or data points into a number of groups such that data points in \n",
    "the same groups are more similar to other data points in the same group than those in other groups. In simple words, the \n",
    "aim is to segregate groups with similar traits and assign them into clusters."
   ]
  },
  {
   "cell_type": "code",
   "execution_count": null,
   "id": "5d69f5e5-7278-4702-8424-0ec834d0c2ee",
   "metadata": {},
   "outputs": [],
   "source": [
    "#13. Make brief observations on two of the following topics ?\n",
    "#Machine learning algorithms are used\n",
    "#Studying under supervision\n",
    "#Studying without supervision\n",
    "#Reinforcement learning is a form of learning based on positive reinforcement.\n",
    "\n",
    "Ans. The breif observations on the following two topics is:\n",
    "\n",
    "*Machine learning algorithms are used: At its Most basic, Machine Learning uses programmed algorithms that receive and analyse \n",
    "input data to predict output values within an acceptable range. As new data is fed to these algorithms, they learn and optimise their operations to improve performance, developing intelligence over time.\n",
    "\n",
    "*Studying Under Supervision: In machine learning, there are two important categories- Supervised and Unsupervised learning.\n",
    "Supervised learning, an algorithm learns from a training dataset. We know the correct answers or desired output, the algorithm \n",
    "makes predictions using the given dataset and is corrected by the “supervisor”.\n",
    "\n",
    "*Studying without supervision: Studying without supervision, also known as unsupervised learning, is a subfield of machine \n",
    "learning where algorithms are tasked with discovering patterns, structures, or relationships within a dataset without explicit\n",
    "guidance or supervision. Unsupervised learning algorithms aim to find inherent patterns or groupings in the data without being \n",
    "provided with specific labels or outcomes.\n",
    "\n",
    "*Reinforcement learning is a form of learning based on positive reinforcement: Reinforcement learning is a type of machine \n",
    "learning that involves an agent learning to make a sequence of decisions or actions in an environment to maximize a cumulative\n",
    "reward signal. In reinforcement learning, positive reinforcement plays a crucial role in guiding the learning process."
   ]
  }
 ],
 "metadata": {
  "kernelspec": {
   "display_name": "Python 3 (ipykernel)",
   "language": "python",
   "name": "python3"
  },
  "language_info": {
   "codemirror_mode": {
    "name": "ipython",
    "version": 3
   },
   "file_extension": ".py",
   "mimetype": "text/x-python",
   "name": "python",
   "nbconvert_exporter": "python",
   "pygments_lexer": "ipython3",
   "version": "3.10.6"
  }
 },
 "nbformat": 4,
 "nbformat_minor": 5
}
